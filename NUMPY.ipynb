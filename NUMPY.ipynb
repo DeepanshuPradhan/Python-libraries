{
 "cells": [
  {
   "cell_type": "code",
   "execution_count": 4,
   "id": "07b6b495-2abb-4a68-b8bc-7e54282b6bd7",
   "metadata": {},
   "outputs": [
    {
     "name": "stdout",
     "output_type": "stream",
     "text": [
      "[1 2 3 4]\n",
      "<class 'numpy.ndarray'>\n"
     ]
    }
   ],
   "source": [
    "import numpy as np\n",
    "x=np.array([1,2,3,4])\n",
    "print(x)\n",
    "print(type(x))"
   ]
  },
  {
   "cell_type": "code",
   "execution_count": 5,
   "id": "ee9ca09a-cd26-48d3-b536-3a9caeba8b89",
   "metadata": {},
   "outputs": [
    {
     "name": "stdout",
     "output_type": "stream",
     "text": [
      "[1, 2, 3, 4]\n",
      "<class 'list'>\n"
     ]
    }
   ],
   "source": [
    "y=[1,2,3,4]\n",
    "print(y)\n",
    "print(type(y))"
   ]
  },
  {
   "cell_type": "code",
   "execution_count": 6,
   "id": "d9dd213a-5bce-46fa-be9e-6c4e024f2985",
   "metadata": {},
   "outputs": [
    {
     "name": "stdout",
     "output_type": "stream",
     "text": [
      "745 ns ± 126 ns per loop (mean ± std. dev. of 7 runs, 1,000,000 loops each)\n"
     ]
    }
   ],
   "source": [
    "%timeit [j**4 for j in range(1,8)]"
   ]
  },
  {
   "cell_type": "code",
   "execution_count": 7,
   "id": "72948aef-68ee-4d99-9084-7c4ffc015369",
   "metadata": {},
   "outputs": [
    {
     "name": "stdout",
     "output_type": "stream",
     "text": [
      "2.25 μs ± 129 ns per loop (mean ± std. dev. of 7 runs, 100,000 loops each)\n"
     ]
    }
   ],
   "source": [
    "import numpy as np\n",
    "%timeit np.arange(1,9)**4"
   ]
  },
  {
   "cell_type": "code",
   "execution_count": 1,
   "id": "7702ebed-bb60-4f2c-a392-aab607acff4e",
   "metadata": {},
   "outputs": [
    {
     "name": "stdout",
     "output_type": "stream",
     "text": [
      "[1 2 3]\n"
     ]
    }
   ],
   "source": [
    "import numpy as np\n",
    "a=np.array([1,2,3])\n",
    "print(a)"
   ]
  },
  {
   "cell_type": "code",
   "execution_count": 4,
   "id": "6dcf0f30-fcfe-477a-8208-8413a2db98bd",
   "metadata": {},
   "outputs": [
    {
     "data": {
      "text/plain": [
       "array([1, 2, 3, 4, 5, 6])"
      ]
     },
     "execution_count": 4,
     "metadata": {},
     "output_type": "execute_result"
    }
   ],
   "source": [
    "import numpy as np\n",
    "x=[1,2,3,4,5,6]\n",
    "y=np.array(x)\n",
    "y"
   ]
  },
  {
   "cell_type": "code",
   "execution_count": 6,
   "id": "9d70daac-0b41-4322-bd9b-86e0d957d8f0",
   "metadata": {},
   "outputs": [
    {
     "name": "stdin",
     "output_type": "stream",
     "text": [
      "Enter : 12\n"
     ]
    },
    {
     "name": "stdout",
     "output_type": "stream",
     "text": [
      "[12]\n"
     ]
    },
    {
     "name": "stdin",
     "output_type": "stream",
     "text": [
      "Enter : 13\n"
     ]
    },
    {
     "name": "stdout",
     "output_type": "stream",
     "text": [
      "[12 13]\n"
     ]
    },
    {
     "name": "stdin",
     "output_type": "stream",
     "text": [
      "Enter : 14\n"
     ]
    },
    {
     "name": "stdout",
     "output_type": "stream",
     "text": [
      "[12 13 14]\n"
     ]
    },
    {
     "name": "stdin",
     "output_type": "stream",
     "text": [
      "Enter : 15\n"
     ]
    },
    {
     "name": "stdout",
     "output_type": "stream",
     "text": [
      "[12 13 14 15]\n"
     ]
    }
   ],
   "source": [
    "l=[]\n",
    "for i in range(1,5):\n",
    "    int_1=int(input(\"Enter :\"))\n",
    "    l.append(int_1)\n",
    "    print(np.array(l))"
   ]
  },
  {
   "cell_type": "code",
   "execution_count": 8,
   "id": "84f93b35-5da9-4705-80a5-e84bc5bb744d",
   "metadata": {},
   "outputs": [
    {
     "name": "stdout",
     "output_type": "stream",
     "text": [
      "1\n"
     ]
    }
   ],
   "source": [
    "import numpy as np\n",
    "x=[1,2,3,4]\n",
    "y=np.array([1,2,3,4,5])\n",
    "print(y.ndim)"
   ]
  },
  {
   "cell_type": "code",
   "execution_count": 11,
   "id": "22135e5e-12c9-4ece-9d0b-9ba4dc32f60b",
   "metadata": {},
   "outputs": [
    {
     "name": "stdout",
     "output_type": "stream",
     "text": [
      "[[1 2 3 4]\n",
      " [1 2 3 4]]\n",
      "2\n"
     ]
    }
   ],
   "source": [
    "ar2=np.array([[1,2,3,4],[1,2,3,4]])\n",
    "print(ar2)\n",
    "print(ar2.ndim)"
   ]
  },
  {
   "cell_type": "code",
   "execution_count": 12,
   "id": "c1328187-15a6-47c1-af45-defc76a9ee3c",
   "metadata": {},
   "outputs": [
    {
     "name": "stdout",
     "output_type": "stream",
     "text": [
      "[[[1 2 3 4]\n",
      "  [1 2 3 4]\n",
      "  [1 2 3 4]]]\n",
      "3\n"
     ]
    }
   ],
   "source": [
    "ar3=np.array([[[1,2,3,4],[1,2,3,4],[1,2,3,4]]])\n",
    "print(ar3)\n",
    "print(ar3.ndim)"
   ]
  },
  {
   "cell_type": "code",
   "execution_count": 15,
   "id": "547292e5-e503-4de3-8a36-18b492c65c0b",
   "metadata": {},
   "outputs": [
    {
     "name": "stdout",
     "output_type": "stream",
     "text": [
      "[[[[[[[[[[1 2 3 4]]]]]]]]]]\n",
      "10\n"
     ]
    }
   ],
   "source": [
    "arn=np.array ([1,2,3,4],ndmin=10)\n",
    "print(arn)\n",
    "print(arn.ndim)"
   ]
  },
  {
   "cell_type": "code",
   "execution_count": 34,
   "id": "075513f2-9fba-4c37-8c1d-bc80e79f3797",
   "metadata": {},
   "outputs": [
    {
     "name": "stdout",
     "output_type": "stream",
     "text": [
      "[[[0. 0. 0. 0.]\n",
      "  [0. 0. 0. 0.]]\n",
      "\n",
      " [[0. 0. 0. 0.]\n",
      "  [0. 0. 0. 0.]]\n",
      "\n",
      " [[0. 0. 0. 0.]\n",
      "  [0. 0. 0. 0.]]]\n"
     ]
    }
   ],
   "source": [
    "import numpy as np\n",
    "ar_zero= np.zeros((3,2,4))\n",
    "print(ar_zero)"
   ]
  },
  {
   "cell_type": "code",
   "execution_count": 27,
   "id": "b32cb760-6c2b-4840-934b-5e5cdda82093",
   "metadata": {},
   "outputs": [
    {
     "name": "stdout",
     "output_type": "stream",
     "text": [
      "[1. 1. 1. 1.]\n"
     ]
    }
   ],
   "source": [
    "ar_one=np.ones(4)\n",
    "print(ar_one)"
   ]
  },
  {
   "cell_type": "code",
   "execution_count": 36,
   "id": "e891488d-68b9-4dbc-a903-b584932a0b45",
   "metadata": {},
   "outputs": [
    {
     "name": "stdout",
     "output_type": "stream",
     "text": [
      "[]\n"
     ]
    }
   ],
   "source": [
    "ar_em=np.empty(0)\n",
    "print(ar_em)"
   ]
  },
  {
   "cell_type": "code",
   "execution_count": 39,
   "id": "37031fb8-4038-4465-8809-bde7e7d8995c",
   "metadata": {},
   "outputs": [
    {
     "name": "stdout",
     "output_type": "stream",
     "text": [
      "[1 3]\n"
     ]
    }
   ],
   "source": [
    "ar_rn=np.arange(1,4,2)\n",
    "print(ar_rn)"
   ]
  },
  {
   "cell_type": "code",
   "execution_count": 43,
   "id": "dce7c7a0-37b4-47ab-b33c-41e3d9a0e566",
   "metadata": {},
   "outputs": [
    {
     "name": "stdout",
     "output_type": "stream",
     "text": [
      "[[1. 0. 0. 0. 0.]\n",
      " [0. 1. 0. 0. 0.]\n",
      " [0. 0. 1. 0. 0.]]\n"
     ]
    }
   ],
   "source": [
    "ar_dia=np.eye(3,5)\n",
    "print(ar_dia)"
   ]
  },
  {
   "cell_type": "code",
   "execution_count": 55,
   "id": "0a380807-11f4-40d0-899e-c3e25e202401",
   "metadata": {},
   "outputs": [
    {
     "name": "stdout",
     "output_type": "stream",
     "text": [
      "[ 2.  6. 10. 14. 18.]\n"
     ]
    }
   ],
   "source": [
    "ar_lin=np.linspace(2,18,num=5)\n",
    "print(ar_lin)"
   ]
  },
  {
   "cell_type": "code",
   "execution_count": 2,
   "id": "081629a3-a809-4f72-9e8c-9109c35f7676",
   "metadata": {},
   "outputs": [
    {
     "name": "stdout",
     "output_type": "stream",
     "text": [
      "[0.05003102 0.92305026 0.29715692 0.14656534]\n"
     ]
    }
   ],
   "source": [
    "import numpy as np\n",
    "var=np.random.rand(4)\n",
    "print(var)"
   ]
  },
  {
   "cell_type": "code",
   "execution_count": 11,
   "id": "e2227f9e-d4b6-4220-8c72-5342a46fd6c6",
   "metadata": {},
   "outputs": [
    {
     "name": "stdout",
     "output_type": "stream",
     "text": [
      "[[0.51169828 0.37679189 0.14665055 0.4545842  0.03703666]\n",
      " [0.53823935 0.6163021  0.12567016 0.94780169 0.88178676]]\n"
     ]
    }
   ],
   "source": [
    "import numpy as np\n",
    "var1=np.random.rand(2,5)\n",
    "print(var1)"
   ]
  },
  {
   "cell_type": "code",
   "execution_count": 4,
   "id": "5d7e582b-5e2b-42a7-aeea-448e8f5d8f76",
   "metadata": {},
   "outputs": [
    {
     "name": "stdout",
     "output_type": "stream",
     "text": [
      "[-2.68365013  0.25479762 -0.07738717 -1.50139453]\n"
     ]
    }
   ],
   "source": [
    "var2=np.random.randn(4)\n",
    "print(var2)"
   ]
  },
  {
   "cell_type": "code",
   "execution_count": 13,
   "id": "93972458-a554-4933-81f6-b2306d8cb2cf",
   "metadata": {},
   "outputs": [
    {
     "name": "stdout",
     "output_type": "stream",
     "text": [
      "[[0.99074631 0.28022646 0.81382387]\n",
      " [0.71341881 0.70293078 0.98257555]]\n"
     ]
    }
   ],
   "source": [
    "var3=np.random.ranf((2,3))\n",
    "print(var3)"
   ]
  },
  {
   "cell_type": "code",
   "execution_count": 14,
   "id": "1b2a344a-2422-436b-a788-44966868d88e",
   "metadata": {},
   "outputs": [
    {
     "name": "stdout",
     "output_type": "stream",
     "text": [
      "[10 12  7 14 13]\n"
     ]
    }
   ],
   "source": [
    "var4=np.random.randint(5,20,5)\n",
    "print(var4)"
   ]
  },
  {
   "cell_type": "code",
   "execution_count": 18,
   "id": "3aaf0634-1db3-45ed-9d3d-e4b9a1da4b74",
   "metadata": {},
   "outputs": [
    {
     "name": "stdout",
     "output_type": "stream",
     "text": [
      "data type :  int64\n"
     ]
    }
   ],
   "source": [
    "import numpy as np\n",
    "var=np.array([1,2,3,4,13])\n",
    "print(\"data type : \",var.dtype)"
   ]
  },
  {
   "cell_type": "code",
   "execution_count": 19,
   "id": "0215feec-bf1f-4386-adb2-138f522ea3d5",
   "metadata": {},
   "outputs": [
    {
     "name": "stdout",
     "output_type": "stream",
     "text": [
      "data type :  float64\n"
     ]
    }
   ],
   "source": [
    "var=np.array([1.22,2.44,3.76,4.88,13.00])\n",
    "print(\"data type : \",var.dtype)"
   ]
  },
  {
   "cell_type": "code",
   "execution_count": 24,
   "id": "1fa91520-75fb-4c04-a439-31058617597d",
   "metadata": {},
   "outputs": [
    {
     "name": "stdout",
     "output_type": "stream",
     "text": [
      "data type :  <U21\n"
     ]
    }
   ],
   "source": [
    "var=np.array([\"A\",\"D\",\"R\",\"F\",1,2,3,4])\n",
    "print(\"data type : \",var.dtype)"
   ]
  },
  {
   "cell_type": "code",
   "execution_count": 25,
   "id": "72de0783-8181-4839-afc6-cf663f52878d",
   "metadata": {},
   "outputs": [
    {
     "name": "stdout",
     "output_type": "stream",
     "text": [
      "<U1\n"
     ]
    }
   ],
   "source": [
    "var=np.array([\"A\",\"D\",\"R\",\"F\"])\n",
    "print(var.dtype)"
   ]
  },
  {
   "cell_type": "code",
   "execution_count": 30,
   "id": "d62e205b-12e8-43e6-a948-8cdca387dfd6",
   "metadata": {},
   "outputs": [
    {
     "name": "stdout",
     "output_type": "stream",
     "text": [
      "int8\n",
      "[1 2 3 4]\n"
     ]
    }
   ],
   "source": [
    "x=np.array([1,2,3,4],dtype=np.int8)\n",
    "print(x.dtype)\n",
    "print(x)\n"
   ]
  },
  {
   "cell_type": "code",
   "execution_count": 4,
   "id": "37dc33de-25a7-4354-be74-370c09c57a56",
   "metadata": {},
   "outputs": [
    {
     "name": "stdout",
     "output_type": "stream",
     "text": [
      "float32\n",
      "[1. 2. 3. 4.]\n"
     ]
    }
   ],
   "source": [
    "import numpy as np\n",
    "x1=np.array([1,2,3,4,],dtype=\"f\")\n",
    "print(x1.dtype)\n",
    "print(x1)\n"
   ]
  },
  {
   "cell_type": "code",
   "execution_count": 32,
   "id": "421f09ad-f9c2-430f-a59f-d72c25c941a0",
   "metadata": {},
   "outputs": [
    {
     "name": "stdout",
     "output_type": "stream",
     "text": [
      "int64\n",
      "float32\n",
      "[1 2 3 4]\n",
      "[1. 2. 3. 4.]\n"
     ]
    }
   ],
   "source": [
    "x2=np.array([1,2,3,4])\n",
    "new=np.float32(x2)\n",
    "print(x2.dtype)\n",
    "print(new.dtype)\n",
    "print(x2)\n",
    "print(new)"
   ]
  },
  {
   "cell_type": "code",
   "execution_count": 36,
   "id": "0e3c2e99-d011-4939-93c5-d552e5023dc7",
   "metadata": {},
   "outputs": [
    {
     "name": "stdout",
     "output_type": "stream",
     "text": [
      "int64\n",
      "float32\n",
      "int64\n",
      "[1 2 3 4]\n",
      "[1. 2. 3. 4.]\n",
      "[1 2 3 4]\n"
     ]
    }
   ],
   "source": [
    "x2=np.array([1,2,3,4])\n",
    "new=np.float32(x2)\n",
    "new_one=np.int_(new)\n",
    "print(x2.dtype)\n",
    "print(new.dtype)\n",
    "print(new_one.dtype)\n",
    "print(x2)\n",
    "print(new)\n",
    "print(new_one)"
   ]
  },
  {
   "cell_type": "code",
   "execution_count": 38,
   "id": "6b0bc1f9-8a57-465f-8fab-d41d401da8eb",
   "metadata": {},
   "outputs": [
    {
     "name": "stdout",
     "output_type": "stream",
     "text": [
      "[1 2 3 4]\n",
      "[1. 2. 3. 4.]\n",
      "float64\n"
     ]
    }
   ],
   "source": [
    "x3=np.array([1,2,3,4])\n",
    "new_1=x3.astype(float)\n",
    "print(x3)\n",
    "print(new_1)\n",
    "print(new_1.dtype)"
   ]
  },
  {
   "cell_type": "code",
   "execution_count": 1,
   "id": "b0c891b9-6fc0-4cf2-aeb2-341fb09591d5",
   "metadata": {},
   "outputs": [
    {
     "name": "stdout",
     "output_type": "stream",
     "text": [
      "[4 5 6 7]\n"
     ]
    }
   ],
   "source": [
    "import numpy as np\n",
    "var=np.array([1,2,3,4])\n",
    "varadd=var+3\n",
    "print(varadd)"
   ]
  },
  {
   "cell_type": "code",
   "execution_count": 2,
   "id": "096484d6-44dd-4384-b87f-6c3e068169b1",
   "metadata": {},
   "outputs": [
    {
     "name": "stdout",
     "output_type": "stream",
     "text": [
      "[2 4 6 8]\n"
     ]
    }
   ],
   "source": [
    "import numpy as np\n",
    "var1=np.array([1,2,3,4])\n",
    "var2=np.array([1,2,3,4])\n",
    "varadd=var1+var2\n",
    "print(varadd)"
   ]
  },
  {
   "cell_type": "code",
   "execution_count": 3,
   "id": "22fc8bfd-6943-41b4-86e8-1ae87daf6fb9",
   "metadata": {},
   "outputs": [
    {
     "name": "stdout",
     "output_type": "stream",
     "text": [
      "[-2 -1  0  1]\n"
     ]
    }
   ],
   "source": [
    "import numpy as np\n",
    "var=np.array([1,2,3,4])\n",
    "varsub=var-3\n",
    "print(varsub)"
   ]
  },
  {
   "cell_type": "code",
   "execution_count": 7,
   "id": "07c958a3-0870-434f-89d9-41fbe8dfcd6b",
   "metadata": {},
   "outputs": [
    {
     "name": "stdout",
     "output_type": "stream",
     "text": [
      "[-2 -1  0  1]\n"
     ]
    }
   ],
   "source": [
    "import numpy as np\n",
    "var=np.array([1,2,3,4])\n",
    "varsub=var-3\n",
    "print(varsub)"
   ]
  },
  {
   "cell_type": "code",
   "execution_count": 8,
   "id": "7ec9a5d5-de26-42cc-b970-775eb6bb814d",
   "metadata": {},
   "outputs": [
    {
     "name": "stdout",
     "output_type": "stream",
     "text": [
      "[ 3  6  9 12]\n"
     ]
    }
   ],
   "source": [
    "import numpy as np\n",
    "var=np.array([1,2,3,4])\n",
    "varsub=var*3\n",
    "print(varsub)"
   ]
  },
  {
   "cell_type": "code",
   "execution_count": 9,
   "id": "195945c3-2487-46d3-b16b-3e9b3316dba5",
   "metadata": {},
   "outputs": [
    {
     "name": "stdout",
     "output_type": "stream",
     "text": [
      "[0.33333333 0.66666667 1.         1.33333333]\n"
     ]
    }
   ],
   "source": [
    "import numpy as np\n",
    "var=np.array([1,2,3,4])\n",
    "varsub=var/3\n",
    "print(varsub)"
   ]
  },
  {
   "cell_type": "code",
   "execution_count": 10,
   "id": "8c1db76c-a27d-490d-b9e6-860ef8ad4183",
   "metadata": {},
   "outputs": [
    {
     "name": "stdout",
     "output_type": "stream",
     "text": [
      "[1 2 0 1]\n"
     ]
    }
   ],
   "source": [
    "import numpy as np\n",
    "var=np.array([1,2,3,4])\n",
    "varsub=var%3\n",
    "print(varsub)"
   ]
  },
  {
   "cell_type": "code",
   "execution_count": 15,
   "id": "54b02881-6c4a-495d-b80d-2fca53f26a3c",
   "metadata": {},
   "outputs": [
    {
     "name": "stdout",
     "output_type": "stream",
     "text": [
      "[4 5 6 7]\n"
     ]
    }
   ],
   "source": [
    "import numpy as np\n",
    "var1=np.array([1,2,3,4])\n",
    "var2=np.array([1,2,3,4])\n",
    "varadd=np.add(var1,3)\n",
    "print(varadd)"
   ]
  },
  {
   "cell_type": "code",
   "execution_count": 26,
   "id": "cdf1e90e-de47-4151-8977-527fe942fb37",
   "metadata": {},
   "outputs": [
    {
     "name": "stdout",
     "output_type": "stream",
     "text": [
      "[1 0 0 0]\n"
     ]
    }
   ],
   "source": [
    "import numpy as np\n",
    "var1=np.array([1,2,3,4])\n",
    "var2=np.array([5,6,7,9])\n",
    "varrec=np.reciprocal(var1)\n",
    "print(varrec)"
   ]
  },
  {
   "cell_type": "code",
   "execution_count": 28,
   "id": "cf6930c4-5cc8-4ce8-9132-f7bc4c1244b7",
   "metadata": {},
   "outputs": [
    {
     "name": "stdout",
     "output_type": "stream",
     "text": [
      "[[ 1  4  9 16]\n",
      " [ 1  4  9 16]]\n"
     ]
    }
   ],
   "source": [
    "import numpy as np\n",
    "var21=np.array([[1,2,3,4],[1,2,3,4]])\n",
    "var22=np.array([[1,2,3,4],[1,2,3,4]])\n",
    "varmul2=var21*var22\n",
    "print(varmul2)"
   ]
  },
  {
   "cell_type": "code",
   "execution_count": 37,
   "id": "2302aec4-2207-4d7c-891c-207e64486c84",
   "metadata": {},
   "outputs": [
    {
     "name": "stdout",
     "output_type": "stream",
     "text": [
      "min : 1 min position : 0\n",
      "max : 5 max position : 4\n"
     ]
    }
   ],
   "source": [
    "import numpy as np\n",
    "var=np.array([1,2,3,4,5,3,2])\n",
    "print(\"min :\" ,np.min(var),\"min position :\", np.argmin(var))\n",
    "print(\"max :\" ,np.max(var),\"max position :\",np.argmax(var))\n"
   ]
  },
  {
   "cell_type": "code",
   "execution_count": 38,
   "id": "148bbcb4-f2cb-465c-b938-81e16c9fa565",
   "metadata": {},
   "outputs": [
    {
     "name": "stdout",
     "output_type": "stream",
     "text": [
      "[1 5]\n"
     ]
    }
   ],
   "source": [
    "var1=np.array([[2,1,3],[9,5,6]])\n",
    "print(np.min(var1,axis=1))\n",
    "\n"
   ]
  },
  {
   "cell_type": "code",
   "execution_count": 39,
   "id": "28849b2c-8227-4449-9422-a0935a3c5376",
   "metadata": {},
   "outputs": [
    {
     "name": "stdout",
     "output_type": "stream",
     "text": [
      "[2 1 3]\n"
     ]
    }
   ],
   "source": [
    "var1=np.array([[2,1,3],[9,5,6]])\n",
    "print(np.min(var1,axis=0))\n"
   ]
  },
  {
   "cell_type": "code",
   "execution_count": 40,
   "id": "cef14aee-4629-43e7-83aa-ed12e8b2c812",
   "metadata": {},
   "outputs": [
    {
     "name": "stdout",
     "output_type": "stream",
     "text": [
      "sqrt : [1.         1.41421356 1.73205081 2.         2.23606798 1.73205081\n",
      " 1.41421356]\n"
     ]
    }
   ],
   "source": [
    "import numpy as np\n",
    "var=np.array([1,2,3,4,5,3,2])\n",
    "print(\"sqrt :\", np.sqrt(var))"
   ]
  },
  {
   "cell_type": "code",
   "execution_count": 43,
   "id": "324b2aa8-5310-49c5-ad32-7a30818cca43",
   "metadata": {},
   "outputs": [
    {
     "name": "stdout",
     "output_type": "stream",
     "text": [
      "[0.84147098 0.90929743 0.14112001]\n"
     ]
    }
   ],
   "source": [
    "var2=np.array([1,2,3])\n",
    "print(np.sin(var2))"
   ]
  },
  {
   "cell_type": "code",
   "execution_count": 44,
   "id": "6ae956a7-ea54-470c-a894-c0f686909afb",
   "metadata": {},
   "outputs": [
    {
     "name": "stdout",
     "output_type": "stream",
     "text": [
      "[ 0.54030231 -0.41614684 -0.9899925 ]\n"
     ]
    }
   ],
   "source": [
    "var2=np.array([1,2,3])\n",
    "print(np.cos(var2))"
   ]
  },
  {
   "cell_type": "code",
   "execution_count": 45,
   "id": "0267cd5e-40fc-424f-a2bd-e6c6ee314bd5",
   "metadata": {},
   "outputs": [
    {
     "name": "stdout",
     "output_type": "stream",
     "text": [
      "[1 3 6]\n"
     ]
    }
   ],
   "source": [
    "var2=np.array([1,2,3])\n",
    "print(np.cumsum(var2))"
   ]
  },
  {
   "cell_type": "code",
   "execution_count": 15,
   "id": "389b98de-8f91-462c-a6fb-c493603db7ea",
   "metadata": {},
   "outputs": [
    {
     "name": "stdout",
     "output_type": "stream",
     "text": [
      "(4,)\n"
     ]
    }
   ],
   "source": [
    "import numpy as np\n",
    "var=np.array([1,2,3,4])\n",
    "\n",
    "print(var.shape)"
   ]
  },
  {
   "cell_type": "code",
   "execution_count": 13,
   "id": "10f69478-b860-4aea-8354-a71b4bac8bd9",
   "metadata": {},
   "outputs": [
    {
     "name": "stdout",
     "output_type": "stream",
     "text": [
      "[[[[1 2 3 4]]]]\n",
      "\n",
      "4\n",
      "\n",
      "(1, 1, 1, 4)\n"
     ]
    }
   ],
   "source": [
    "var1=np.array([1,2,3,4],ndmin=4)\n",
    "print(var1)\n",
    "print()\n",
    "print(var1.ndim)\n",
    "print()\n",
    "print(var1.shape)"
   ]
  },
  {
   "cell_type": "code",
   "execution_count": 18,
   "id": "2a0b7d2d-7e1c-4047-8b9a-017441c9fbea",
   "metadata": {},
   "outputs": [
    {
     "name": "stdout",
     "output_type": "stream",
     "text": [
      "1\n",
      "[[[1]\n",
      "  [2]]\n",
      "\n",
      " [[3]\n",
      "  [4]]\n",
      "\n",
      " [[5]\n",
      "  [6]]]\n",
      "3\n"
     ]
    }
   ],
   "source": [
    "var2=np.array([1,2,3,4,5,6])\n",
    "print(var2.ndim)\n",
    "x=var2.reshape(3,2,1)\n",
    "print(x)\n",
    "print(x.ndim)"
   ]
  },
  {
   "cell_type": "code",
   "execution_count": 30,
   "id": "37c3ca42-9292-41a1-9606-ecf894d8ad3b",
   "metadata": {},
   "outputs": [
    {
     "name": "stdout",
     "output_type": "stream",
     "text": [
      "1\n",
      "[[1 2]\n",
      " [3 4]\n",
      " [5 6]]\n",
      "2\n",
      "[1 2 3 4 5 6]\n",
      "1\n"
     ]
    }
   ],
   "source": [
    "var2=np.array([1,2,3,4,5,6])\n",
    "print(var2.ndim)\n",
    "x=var2.reshape(3,2)\n",
    "print(x)\n",
    "print(x.ndim)\n",
    "one=x.reshape(-1)\n",
    "print(one)\n",
    "print(one.ndim)"
   ]
  },
  {
   "cell_type": "code",
   "execution_count": 25,
   "id": "e51a6b83-e4f7-4f43-9434-67822f36cc55",
   "metadata": {},
   "outputs": [
    {
     "name": "stdout",
     "output_type": "stream",
     "text": [
      "1\n",
      "[[[1]\n",
      "  [2]\n",
      "  [3]]\n",
      "\n",
      " [[4]\n",
      "  [5]\n",
      "  [6]]]\n",
      "3\n"
     ]
    }
   ],
   "source": [
    "var3=np.array([1,2,3,4,5,6])\n",
    "print(var3.ndim)\n",
    "x=var3.reshape(2,3,1)\n",
    "print(x)\n",
    "print(x.ndim)"
   ]
  },
  {
   "cell_type": "code",
   "execution_count": 28,
   "id": "66afaebe-7e85-40af-a91d-21b26e3ab9c2",
   "metadata": {},
   "outputs": [
    {
     "name": "stdout",
     "output_type": "stream",
     "text": [
      "1\n",
      "[[[1]\n",
      "  [2]\n",
      "  [3]]\n",
      "\n",
      " [[4]\n",
      "  [5]\n",
      "  [6]]]\n",
      "3\n",
      "\n",
      "[[1 2 3]\n",
      " [4 5 6]]\n",
      "2\n"
     ]
    }
   ],
   "source": [
    "var3=np.array([1,2,3,4,5,6])\n",
    "print(var3.ndim)\n",
    "x=var3.reshape(2,3,1)\n",
    "print(x)\n",
    "print(x.ndim)\n",
    "print()\n",
    "one=x.reshape(2,3)\n",
    "print(one)\n",
    "print(one.ndim)"
   ]
  },
  {
   "cell_type": "code",
   "execution_count": 36,
   "id": "6d855525-b253-4ba5-aada-7626aa33dcee",
   "metadata": {},
   "outputs": [
    {
     "name": "stdout",
     "output_type": "stream",
     "text": [
      "(3,)\n",
      "[1 2 3]\n",
      "\n",
      "(3, 1)\n",
      "[[1]\n",
      " [2]\n",
      " [3]]\n",
      "\n",
      "[[2 3 4]\n",
      " [3 4 5]\n",
      " [4 5 6]]\n"
     ]
    }
   ],
   "source": [
    "import numpy as np\n",
    "var1=np.array([1,2,3])\n",
    "print(var1.shape)\n",
    "print(var1)\n",
    "print()\n",
    "\n",
    "var2=np.array([[1],[2],[3]])\n",
    "print(var2.shape)\n",
    "print(var2)\n",
    "print()\n",
    "print(var1+var2)"
   ]
  },
  {
   "cell_type": "code",
   "execution_count": 40,
   "id": "d2b5949b-0797-4342-9762-fb0ae34f615c",
   "metadata": {},
   "outputs": [
    {
     "name": "stdout",
     "output_type": "stream",
     "text": [
      "(2, 1)\n",
      "(2, 3)\n",
      "[[2 3 4]\n",
      " [6 7 8]]\n"
     ]
    }
   ],
   "source": [
    "x=np.array([[1],[2]])\n",
    "print(x.shape)\n",
    "y=np.array([[1,2,3],[4,5,6]])\n",
    "print(y.shape)\n",
    "\n",
    "print(x+y)\n"
   ]
  },
  {
   "cell_type": "code",
   "execution_count": 3,
   "id": "83e0583e-b388-47ea-9cef-4b0b064ca53e",
   "metadata": {},
   "outputs": [
    {
     "name": "stdout",
     "output_type": "stream",
     "text": [
      "8\n",
      "8\n"
     ]
    }
   ],
   "source": [
    "import numpy as np\n",
    "\n",
    "var=np.array([9,8,7,6])\n",
    "#             0,1,2,3\n",
    "#            -4,-3,-2,-1\n",
    "print(var[1])\n",
    "print(var[-3])"
   ]
  },
  {
   "cell_type": "code",
   "execution_count": 6,
   "id": "06277d98-ea1d-409e-91be-5a9aec4f2f14",
   "metadata": {},
   "outputs": [
    {
     "name": "stdout",
     "output_type": "stream",
     "text": [
      "[[9 8 7]\n",
      " [4 5 6]]\n",
      "2\n",
      "\n",
      "7\n"
     ]
    }
   ],
   "source": [
    "var1=np.array([[9,8,7],[4,5,6]])\n",
    "print(var1)\n",
    "print(var1.ndim)\n",
    "print()\n",
    "\n",
    "print(var1[0,2])\n"
   ]
  },
  {
   "cell_type": "code",
   "execution_count": 15,
   "id": "881c7e73-b2ab-430d-8df2-8df217fdd33c",
   "metadata": {},
   "outputs": [
    {
     "name": "stdout",
     "output_type": "stream",
     "text": [
      "[[[1 2]\n",
      "  [6 7]]]\n",
      "3\n",
      "\n",
      "7\n"
     ]
    }
   ],
   "source": [
    "var2=np.array([[[1,2],[6,7]]])\n",
    "print(var2)\n",
    "print(var2.ndim)\n",
    "print()\n",
    "print(var2[0,1,1])"
   ]
  },
  {
   "cell_type": "code",
   "execution_count": 21,
   "id": "c4fceda6-6290-4f80-bff9-6d3330022215",
   "metadata": {},
   "outputs": [
    {
     "name": "stdout",
     "output_type": "stream",
     "text": [
      "[1 2 3 4 5 6 7]\n",
      "\n",
      "[2 3 4 5 6 7]\n",
      "[1 3 5 7]\n",
      "[2 4]\n"
     ]
    }
   ],
   "source": [
    "import numpy as np\n",
    "var1=np.array([1,2,3,4,5,6,7])\n",
    "#              0,1,2,3,4,5,6\n",
    "print(var1)\n",
    "print()\n",
    "print(var1[1:])\n",
    "print(var1[::2])\n",
    "print(var1[1:5:2])\n"
   ]
  },
  {
   "cell_type": "code",
   "execution_count": 33,
   "id": "c417d595-6d52-4390-be00-a598cff4ea67",
   "metadata": {},
   "outputs": [
    {
     "name": "stdout",
     "output_type": "stream",
     "text": [
      "[16 17 18]\n",
      "[8 7]\n"
     ]
    }
   ],
   "source": [
    "var2=np.array([[9,8,7,6],[11,12,13,14],[15,16,17,18]])\n",
    "print (var2[2,1:])\n",
    "print (var2[0,1:3])\n",
    "\n"
   ]
  },
  {
   "cell_type": "code",
   "execution_count": 39,
   "id": "911120a8-4394-49b5-b983-6e9c4ceddbb7",
   "metadata": {},
   "outputs": [
    {
     "name": "stdout",
     "output_type": "stream",
     "text": [
      "[ 9 10]\n"
     ]
    }
   ],
   "source": [
    "var3=np.array([[[ 0,  1,  2,  3],\n",
    "        [ 4,  5,  6,  7],      \n",
    "        [ 8,  9, 10, 11]],\n",
    "\n",
    "       [[12, 13, 14, 15],\n",
    "        [16, 17, 18, 19],      \n",
    "        [20, 21, 22, 23]]])\n",
    "\n",
    "print(var3[0,2,1:3])"
   ]
  },
  {
   "cell_type": "code",
   "execution_count": 41,
   "id": "955ba803-6ed8-41d5-9419-725a8d5733c5",
   "metadata": {},
   "outputs": [
    {
     "name": "stdout",
     "output_type": "stream",
     "text": [
      "[9 8 7 6 5 4]\n",
      "\n",
      "9\n",
      "8\n",
      "7\n",
      "6\n",
      "5\n",
      "4\n"
     ]
    }
   ],
   "source": [
    "import numpy as np\n",
    "var=np.array([9,8,7,6,5,4])\n",
    "print(var)\n",
    "print()\n",
    "for i in var:\n",
    "    print(i)"
   ]
  },
  {
   "cell_type": "code",
   "execution_count": 44,
   "id": "42212e2e-2e72-477e-b8a8-94173655bfb1",
   "metadata": {},
   "outputs": [
    {
     "name": "stdout",
     "output_type": "stream",
     "text": [
      "[[1 2 3 4]\n",
      " [1 2 3 4]]\n",
      "\n",
      "[1 2 3 4]\n",
      "[1 2 3 4]\n"
     ]
    }
   ],
   "source": [
    "var1=np.array([[1,2,3,4],[1,2,3,4]])\n",
    "print(var1)\n",
    "print()\n",
    "for j in var1:\n",
    "   print(j)"
   ]
  },
  {
   "cell_type": "code",
   "execution_count": 48,
   "id": "6edfd696-8ab5-4965-98d5-0e6541f10d8b",
   "metadata": {},
   "outputs": [
    {
     "name": "stdout",
     "output_type": "stream",
     "text": [
      "[[1 2 3 4]\n",
      " [1 2 3 4]]\n",
      "\n",
      "1\n",
      "2\n",
      "3\n",
      "4\n",
      "1\n",
      "2\n",
      "3\n",
      "4\n"
     ]
    }
   ],
   "source": [
    "var1=np.array([[1,2,3,4],[1,2,3,4]])\n",
    "print(var1)\n",
    "print()\n",
    "for  k in var1:\n",
    "    for l in k:\n",
    "        print(l)"
   ]
  },
  {
   "cell_type": "code",
   "execution_count": 49,
   "id": "23455716-4726-4fdb-ad77-8d1e7ffb9bc2",
   "metadata": {},
   "outputs": [
    {
     "name": "stdout",
     "output_type": "stream",
     "text": [
      "[[[1 2 3 4]\n",
      "  [1 2 3 4]]]\n",
      "3\n",
      "\n",
      "[[1 2 3 4]\n",
      " [1 2 3 4]]\n",
      "\n",
      "1\n",
      "2\n",
      "3\n",
      "4\n",
      "1\n",
      "2\n",
      "3\n",
      "4\n"
     ]
    }
   ],
   "source": [
    "var3=np.array([[[1,2,3,4],[1,2,3,4]]])\n",
    "print(var3)\n",
    "print(var3.ndim)\n",
    "print()\n",
    "for i in var3:\n",
    "    print(i)\n",
    "print()\n",
    "for  j in var3:\n",
    "    for k in j:\n",
    "        for l in k:\n",
    "            print(l)"
   ]
  },
  {
   "cell_type": "code",
   "execution_count": 50,
   "id": "2d3b0e03-c88d-4a82-af5f-0bb750ee9bc0",
   "metadata": {},
   "outputs": [
    {
     "name": "stdout",
     "output_type": "stream",
     "text": [
      "[[[1 2 3 4]\n",
      "  [1 2 3 4]]]\n",
      "3\n",
      "\n",
      "1\n",
      "2\n",
      "3\n",
      "4\n",
      "1\n",
      "2\n",
      "3\n",
      "4\n"
     ]
    }
   ],
   "source": [
    "var3=np.array([[[1,2,3,4],[1,2,3,4]]])\n",
    "print(var3)\n",
    "print(var3.ndim)\n",
    "print()\n",
    "\n",
    "for i in np.nditer(var3):\n",
    "    print(i)"
   ]
  },
  {
   "cell_type": "code",
   "execution_count": 55,
   "id": "fce854e8-9039-422a-a847-bc12e9e612b6",
   "metadata": {},
   "outputs": [
    {
     "name": "stdout",
     "output_type": "stream",
     "text": [
      "[[[1 2 3 4]\n",
      "  [1 2 3 4]]]\n",
      "3\n",
      "\n",
      "1\n",
      "2\n",
      "3\n",
      "4\n",
      "1\n",
      "2\n",
      "3\n",
      "4\n"
     ]
    }
   ],
   "source": [
    "var3=np.array([[[1,2,3,4],[1,2,3,4]]])\n",
    "print(var3)\n",
    "print(var3.ndim)\n",
    "print()\n",
    "\n",
    "for i in np.nditer(var3):\n",
    "    print(i)"
   ]
  },
  {
   "cell_type": "code",
   "execution_count": 58,
   "id": "a2364430-32bc-420a-a2ba-d46febd6b6b2",
   "metadata": {},
   "outputs": [
    {
     "name": "stdout",
     "output_type": "stream",
     "text": [
      "[[[1 2 3 4]\n",
      "  [1 2 3 4]]]\n",
      "3\n",
      "\n",
      "(0, 0, 0) 1\n",
      "(0, 0, 1) 2\n",
      "(0, 0, 2) 3\n",
      "(0, 0, 3) 4\n",
      "(0, 1, 0) 1\n",
      "(0, 1, 1) 2\n",
      "(0, 1, 2) 3\n",
      "(0, 1, 3) 4\n"
     ]
    }
   ],
   "source": [
    "var3=np.array([[[1,2,3,4],[1,2,3,4]]])\n",
    "print(var3)\n",
    "print(var3.ndim)\n",
    "print()\n",
    "\n",
    "for i,d in np.ndenumerate(var3):\n",
    "    print(i,d)"
   ]
  },
  {
   "cell_type": "code",
   "execution_count": 5,
   "id": "082e41b3-a150-463d-883d-1816844ed767",
   "metadata": {},
   "outputs": [
    {
     "name": "stdout",
     "output_type": "stream",
     "text": [
      "var : [ 1 40  3  4]\n",
      "copy : [1 2 3 4]\n"
     ]
    }
   ],
   "source": [
    "import numpy as np\n",
    "var=np.array([1,2,3,4])\n",
    "co=var.copy()\n",
    "var[1]=40\n",
    "print(\"var :\",var)\n",
    "print(\"copy :\",co)\n"
   ]
  },
  {
   "cell_type": "code",
   "execution_count": 6,
   "id": "61019c35-14d5-40d3-af25-a903b0d0c295",
   "metadata": {},
   "outputs": [
    {
     "name": "stdout",
     "output_type": "stream",
     "text": [
      "x : [ 9 32  7  6  5]\n",
      "view : [ 9 32  7  6  5]\n"
     ]
    }
   ],
   "source": [
    "x=np.array([9,8,7,6,5])\n",
    "vi=x.view()\n",
    "x[1]=32\n",
    "print(\"x :\",x)\n",
    "print(\"view :\",vi)"
   ]
  },
  {
   "cell_type": "code",
   "execution_count": 7,
   "id": "a268cd78-0cf7-4f83-94ae-b63ed3e95ab1",
   "metadata": {},
   "outputs": [
    {
     "name": "stdout",
     "output_type": "stream",
     "text": [
      "[1 2 3 4 9 8 7 6]\n"
     ]
    }
   ],
   "source": [
    "import numpy as np\n",
    "var=np.array([1,2,3,4])\n",
    "var1=np.array([9,8,7,6])\n",
    "ar=np.concatenate((var,var1))\n",
    "print(ar)"
   ]
  },
  {
   "cell_type": "code",
   "execution_count": 15,
   "id": "69508c92-a1de-460b-917f-c9650ee1d85e",
   "metadata": {},
   "outputs": [
    {
     "name": "stdout",
     "output_type": "stream",
     "text": [
      "[[1 2]\n",
      " [3 4]]\n",
      "\n",
      "[[9 8]\n",
      " [7 6]]\n",
      "\n",
      "[[1 2]\n",
      " [3 4]\n",
      " [9 8]\n",
      " [7 6]]\n",
      "\n",
      "[[1 2 9 8]\n",
      " [3 4 7 6]]\n"
     ]
    }
   ],
   "source": [
    "vr=np.array([[1,2],[3,4]])\n",
    "vr1=np.array([[9,8],[7,6]])\n",
    "ar_new=np.concatenate((vr,vr1),axis=0)\n",
    "ar_new1=np.concatenate((vr,vr1),axis=1)\n",
    "print(vr)\n",
    "print()\n",
    "print(vr1)\n",
    "print()\n",
    "print(ar_new)\n",
    "print()\n",
    "print(ar_new1)\n",
    "\n"
   ]
  },
  {
   "cell_type": "code",
   "execution_count": 21,
   "id": "c6220bea-999e-486c-9d60-39f592c80f1c",
   "metadata": {},
   "outputs": [
    {
     "name": "stdout",
     "output_type": "stream",
     "text": [
      "\n",
      "[[[1 2]]\n",
      "\n",
      " [[3 4]]\n",
      "\n",
      " [[9 8]]\n",
      "\n",
      " [[7 6]]]\n",
      "\n",
      "[[[1 2]\n",
      "  [9 8]]\n",
      "\n",
      " [[3 4]\n",
      "  [7 6]]]\n",
      "\n",
      "[[[1 2 9 8]]\n",
      "\n",
      " [[3 4 7 6]]]\n"
     ]
    }
   ],
   "source": [
    "vr=np.array([[[1,2]],[[3,4]]])\n",
    "vr1=np.array([[[9,8]],[[7,6]]])\n",
    "ar_new=np.concatenate((vr,vr1),axis=0)\n",
    "ar_new1=np.concatenate((vr,vr1),axis=1)\n",
    "ar_new2=np.concatenate((vr,vr1),axis=2)\n",
    "print()\n",
    "print(ar_new)\n",
    "print()\n",
    "print(ar_new1)\n",
    "print()\n",
    "print(ar_new2)"
   ]
  },
  {
   "cell_type": "code",
   "execution_count": 33,
   "id": "4f235fb8-12ae-4422-95a1-c8335c329257",
   "metadata": {},
   "outputs": [
    {
     "name": "stdout",
     "output_type": "stream",
     "text": [
      "\n",
      "[[1 9]\n",
      " [2 8]\n",
      " [3 7]\n",
      " [4 6]]\n",
      "\n",
      "[1 2 3 4 9 8 7 6]\n",
      "\n",
      "[[1 2 3 4]\n",
      " [9 8 7 6]]\n",
      "\n",
      "[[[1 9]\n",
      "  [2 8]\n",
      "  [3 7]\n",
      "  [4 6]]]\n"
     ]
    }
   ],
   "source": [
    "vr_1=np.array([1,2,3,4])\n",
    "vr_2=np.array([9,8,7,6])\n",
    "a_new=np.stack((vr_1,vr_2),axis=1)\n",
    "a_new1=np.hstack((vr_1,vr_2)) #row\n",
    "a_new2=np.vstack((vr_1,vr_2)) #column\n",
    "a_new3=np.dstack((vr_1,vr_2))  #height\n",
    "print()\n",
    "print(a_new)\n",
    "print()\n",
    "print(a_new1)\n",
    "print()\n",
    "print(a_new2)\n",
    "print()\n",
    "print(a_new3)"
   ]
  },
  {
   "cell_type": "code",
   "execution_count": 29,
   "id": "a1c2fa9e-1230-4659-9877-f172126685b3",
   "metadata": {},
   "outputs": [
    {
     "name": "stdout",
     "output_type": "stream",
     "text": [
      "[[1 2 3 4]\n",
      " [9 8 7 6]]\n"
     ]
    }
   ],
   "source": [
    "vr_1=np.array([1,2,3,4])\n",
    "vr_2=np.array([9,8,7,6])\n",
    "a_new2=np.vstack((vr_1,vr_2)) #column\n",
    "print(a_new2)"
   ]
  },
  {
   "cell_type": "code",
   "execution_count": 41,
   "id": "53f1a142-9eda-45fd-9214-70f95719e350",
   "metadata": {},
   "outputs": [
    {
     "name": "stdout",
     "output_type": "stream",
     "text": [
      "[1 2 3 4 5 6]\n",
      "\n",
      "[array([1, 2]), array([3, 4]), array([5, 6])]\n",
      "<class 'list'>\n",
      "[1 2]\n"
     ]
    }
   ],
   "source": [
    "import numpy as np\n",
    "var=np.array([1,2,3,4,5,6])\n",
    "print(var)\n",
    "ar=np.array_split(var,3)\n",
    "print()\n",
    "print(ar)\n",
    "print(type(ar))\n",
    "print(ar[0])"
   ]
  },
  {
   "cell_type": "code",
   "execution_count": 62,
   "id": "9ae20374-b33b-4f9a-98fc-12796179b598",
   "metadata": {},
   "outputs": [
    {
     "name": "stdout",
     "output_type": "stream",
     "text": [
      "\n",
      "[array([[[1, 2]],\n",
      "\n",
      "       [[3, 4]],\n",
      "\n",
      "       [[5, 6]]]), array([], shape=(3, 0, 2), dtype=int64), array([], shape=(3, 0, 2), dtype=int64)]\n",
      "\n",
      "[array([[[1, 2]]]), array([[[3, 4]]]), array([[[5, 6]]])]\n"
     ]
    }
   ],
   "source": [
    "var1=np.array([[[1,2]],[[3,4]],[[5,6]]])\n",
    "\n",
    "\n",
    "ar2=np.array_split(var1,3,axis=1)\n",
    "ar3=np.array_split(var1,3,axis=0)\n",
    "\n",
    "print()\n",
    "print(ar2)\n",
    "print()\n",
    "print(ar3)"
   ]
  },
  {
   "cell_type": "code",
   "execution_count": 8,
   "id": "4747b570-4847-4158-a173-a6aa3ed3ea59",
   "metadata": {},
   "outputs": [
    {
     "name": "stdout",
     "output_type": "stream",
     "text": [
      "(array([1, 3, 4, 6, 8]),)\n"
     ]
    }
   ],
   "source": [
    "import numpy as np\n",
    "var=np.array([1,2,3,4,2,5,2,5,6,7])\n",
    "#index        0 1 2 3 4 5 6 7 8 9\n",
    "x=np.where(var%2 ==0)\n",
    "print(x)"
   ]
  },
  {
   "cell_type": "code",
   "execution_count": 23,
   "id": "57b646b9-959b-454c-abb8-64491b0edc8d",
   "metadata": {},
   "outputs": [
    {
     "name": "stdout",
     "output_type": "stream",
     "text": [
      "[4 4 4]\n"
     ]
    }
   ],
   "source": [
    "var1=np.array([1,2,3,4,9,8])\n",
    "#index         0 1 2 3 4 5 \n",
    "x1=np.searchsorted(var1,[5,6,7],side=\"right\")\n",
    "print(x1)"
   ]
  },
  {
   "cell_type": "code",
   "execution_count": 25,
   "id": "6b21e02c-68aa-4084-a4c0-042a45bf7bc5",
   "metadata": {},
   "outputs": [
    {
     "name": "stdout",
     "output_type": "stream",
     "text": [
      "[ 1  2  3  4  5  6  7 12 22 52]\n"
     ]
    }
   ],
   "source": [
    "var_1=np.array([4,2,3,1,12,5,22,52,6,7])\n",
    "#index          0 1 2 3 4 5 6 7 8 9\n",
    "print(np.sort(var_1))"
   ]
  },
  {
   "cell_type": "code",
   "execution_count": 26,
   "id": "7f163e90-c548-46d2-aa1f-f626a9a55a23",
   "metadata": {},
   "outputs": [
    {
     "name": "stdout",
     "output_type": "stream",
     "text": [
      "['a' 'd' 'f' 's']\n"
     ]
    }
   ],
   "source": [
    "var_2=np.array([\"a\",\"s\",\"d\",\"f\"])\n",
    "print(np.sort(var_2))"
   ]
  },
  {
   "cell_type": "code",
   "execution_count": 28,
   "id": "a3fcb815-606d-4e7d-b961-2d3502da007d",
   "metadata": {},
   "outputs": [
    {
     "name": "stdout",
     "output_type": "stream",
     "text": [
      "[[ 2  3  4]\n",
      " [ 1  5 12]\n",
      " [ 6 22 52]]\n"
     ]
    }
   ],
   "source": [
    "var_1=np.array([[4,2,3],[1,12,5],[22,52,6]])\n",
    "\n",
    "print(np.sort(var_1))"
   ]
  },
  {
   "cell_type": "code",
   "execution_count": 31,
   "id": "d205b470-0ad7-4b1c-8fe7-39a374db3fa0",
   "metadata": {},
   "outputs": [
    {
     "name": "stdout",
     "output_type": "stream",
     "text": [
      "['a' 'f']\n",
      "<class 'numpy.ndarray'>\n"
     ]
    }
   ],
   "source": [
    "var_3=np.array([\"a\",\"s\",\"d\",\"f\"])\n",
    "f=[True,False,False,True]\n",
    "new_a=var_3[f]\n",
    "print(new_a)\n",
    "print(type(new_a))\n"
   ]
  },
  {
   "cell_type": "code",
   "execution_count": 32,
   "id": "849f8a97-ccb1-403c-b710-04951afbed29",
   "metadata": {},
   "outputs": [
    {
     "name": "stdout",
     "output_type": "stream",
     "text": [
      "[5 1 2 4 3]\n"
     ]
    }
   ],
   "source": [
    "import numpy as np\n",
    "var=np.array([1,2,3,4,5])\n",
    "np.random.shuffle(var)\n",
    "print(var)"
   ]
  },
  {
   "cell_type": "code",
   "execution_count": 34,
   "id": "3191969f-f600-41c9-9a0c-da15095b8fce",
   "metadata": {},
   "outputs": [
    {
     "name": "stdout",
     "output_type": "stream",
     "text": [
      "[1 2 3 4 5 6 7]\n"
     ]
    }
   ],
   "source": [
    "var1=np.array([1,2,3,4,2,5,2,6,2,7])\n",
    "x=np.unique(var1)\n",
    "print(x)"
   ]
  },
  {
   "cell_type": "code",
   "execution_count": 35,
   "id": "46066b2e-2568-471d-a3db-a08f4cbceb9f",
   "metadata": {},
   "outputs": [
    {
     "name": "stdout",
     "output_type": "stream",
     "text": [
      "(array([1, 2, 3, 4, 5, 6, 7]), array([0, 1, 2, 3, 5, 7, 9]), array([1, 4, 1, 1, 1, 1, 1]))\n"
     ]
    }
   ],
   "source": [
    "var1=np.array([1,2,3,4,2,5,2,6,2,7])\n",
    "x=np.unique(var1,return_index=True,return_counts=True)\n",
    "print(x)"
   ]
  },
  {
   "cell_type": "code",
   "execution_count": 36,
   "id": "5c7c537f-6128-4595-97be-89591294dd63",
   "metadata": {},
   "outputs": [
    {
     "name": "stdout",
     "output_type": "stream",
     "text": [
      "[[1 2 3]\n",
      " [4 5 6]]\n"
     ]
    }
   ],
   "source": [
    "var2=np.array([1,2,3,4,5,6])\n",
    "y=np.resize(var2,(2,3))\n",
    "print(y)"
   ]
  },
  {
   "cell_type": "code",
   "execution_count": 37,
   "id": "21649f53-3f70-4805-bca4-42978d1a2339",
   "metadata": {},
   "outputs": [
    {
     "name": "stdout",
     "output_type": "stream",
     "text": [
      "[[1 2]\n",
      " [3 4]\n",
      " [5 6]]\n"
     ]
    }
   ],
   "source": [
    "var2=np.array([1,2,3,4,5,6])\n",
    "y=np.resize(var2,(3,2))\n",
    "print(y)"
   ]
  },
  {
   "cell_type": "code",
   "execution_count": 41,
   "id": "a505cab6-33bf-4b35-8915-0bae4ab1db1f",
   "metadata": {},
   "outputs": [
    {
     "name": "stdout",
     "output_type": "stream",
     "text": [
      "[[1 2]\n",
      " [3 4]\n",
      " [5 6]]\n",
      "\n",
      "[1 2 3 4 5 6]\n"
     ]
    }
   ],
   "source": [
    "var2=np.array([1,2,3,4,5,6])\n",
    "y=np.resize(var2,(3,2))\n",
    "print(y)\n",
    "print()\n",
    "print(y.flatten())"
   ]
  },
  {
   "cell_type": "code",
   "execution_count": 39,
   "id": "7920f158-f1f2-452c-bb33-a6c51fd2137c",
   "metadata": {},
   "outputs": [
    {
     "name": "stdout",
     "output_type": "stream",
     "text": [
      "[[1 2]\n",
      " [3 4]\n",
      " [5 6]]\n",
      "\n",
      "[1 3 5 2 4 6]\n"
     ]
    }
   ],
   "source": [
    "var2=np.array([1,2,3,4,5,6])\n",
    "y=np.resize(var2,(3,2))\n",
    "print(y)\n",
    "print()\n",
    "print(y.flatten(order=\"F\"))"
   ]
  },
  {
   "cell_type": "code",
   "execution_count": 43,
   "id": "9cffaa4b-45bc-43d5-9cf4-9795568be181",
   "metadata": {},
   "outputs": [
    {
     "name": "stdout",
     "output_type": "stream",
     "text": [
      "[[1 2]\n",
      " [3 4]\n",
      " [5 6]]\n",
      "\n",
      "[1 2 3 4 5 6]\n"
     ]
    }
   ],
   "source": [
    "var2=np.array([1,2,3,4,5,6])\n",
    "y=np.resize(var2,(3,2))\n",
    "print(y)\n",
    "print()\n",
    "print(np.ravel(y))"
   ]
  },
  {
   "cell_type": "code",
   "execution_count": 44,
   "id": "1e31f2b9-1ddc-4657-b7aa-cbe8b9f877f4",
   "metadata": {},
   "outputs": [
    {
     "name": "stdout",
     "output_type": "stream",
     "text": [
      "[[1 2]\n",
      " [3 4]\n",
      " [5 6]]\n",
      "\n",
      "[1 3 5 2 4 6]\n"
     ]
    }
   ],
   "source": [
    "var2=np.array([1,2,3,4,5,6])\n",
    "y=np.resize(var2,(3,2))\n",
    "print(y)\n",
    "print()\n",
    "print(np.ravel(y,order=\"F\"))"
   ]
  },
  {
   "cell_type": "code",
   "execution_count": 46,
   "id": "63a303f5-23c2-4dd3-bfb0-3599ab580d0d",
   "metadata": {},
   "outputs": [
    {
     "name": "stdout",
     "output_type": "stream",
     "text": [
      "[[1 2]\n",
      " [3 4]\n",
      " [5 6]]\n",
      "\n",
      "[1 2 3 4 5 6]\n"
     ]
    }
   ],
   "source": [
    "var2=np.array([1,2,3,4,5,6])\n",
    "y=np.resize(var2,(3,2))\n",
    "print(y)\n",
    "print()\n",
    "print(np.ravel(y,order=\"K\"))"
   ]
  },
  {
   "cell_type": "code",
   "execution_count": 8,
   "id": "69d2866f-1baf-4d0c-a3f0-f9c40825c9c7",
   "metadata": {},
   "outputs": [
    {
     "name": "stdout",
     "output_type": "stream",
     "text": [
      "[1 2 3 4]\n",
      "[ 1  2 40  3  4 40]\n"
     ]
    }
   ],
   "source": [
    "import numpy as np\n",
    "var=np.array([1,2,3,4])\n",
    "print(var)\n",
    "v=np.insert(var,(2,4),40)\n",
    "print(v)"
   ]
  },
  {
   "cell_type": "code",
   "execution_count": 9,
   "id": "cf07af3a-55b8-41dc-a763-458f32f0935b",
   "metadata": {},
   "outputs": [
    {
     "name": "stdout",
     "output_type": "stream",
     "text": [
      "[1 2 3 4]\n",
      "[1 2 6 3 4 6]\n"
     ]
    }
   ],
   "source": [
    "import numpy as np\n",
    "var=np.array([1,2,3,4])\n",
    "print(var)\n",
    "v=np.insert(var,(2,4),6.5)\n",
    "print(v)"
   ]
  },
  {
   "cell_type": "code",
   "execution_count": 10,
   "id": "7101ed34-5615-49c0-b58d-425ffaab185b",
   "metadata": {},
   "outputs": [
    {
     "name": "stdout",
     "output_type": "stream",
     "text": [
      "[[1 2 3]\n",
      " [1 2 3]\n",
      " [6 6 6]]\n"
     ]
    }
   ],
   "source": [
    "var1=np.array([[1,2,3],[1,2,3]])\n",
    "v1=np.insert(var1,2,6,axis=0)\n",
    "print(v1)\n",
    "\n"
   ]
  },
  {
   "cell_type": "code",
   "execution_count": 11,
   "id": "38c8dbbb-26fc-411c-8a7b-398fedebb13f",
   "metadata": {},
   "outputs": [
    {
     "name": "stdout",
     "output_type": "stream",
     "text": [
      "[[1 2 6 3]\n",
      " [1 2 6 3]]\n"
     ]
    }
   ],
   "source": [
    "var1=np.array([[1,2,3],[1,2,3]])\n",
    "v1=np.insert(var1,2,6,axis=1)\n",
    "print(v1)\n"
   ]
  },
  {
   "cell_type": "code",
   "execution_count": 19,
   "id": "7b84beb5-7cf9-41ed-b885-7f60ca44ccbf",
   "metadata": {},
   "outputs": [
    {
     "name": "stdout",
     "output_type": "stream",
     "text": [
      "[[ 1  2  3]\n",
      " [ 1  2  3]\n",
      " [22 23 24]]\n"
     ]
    }
   ],
   "source": [
    "var1=np.array([[1,2,3],[1,2,3]])\n",
    "v1=np.insert(var1,2,[22,23,24],axis=0)\n",
    "print(v1)\n"
   ]
  },
  {
   "cell_type": "code",
   "execution_count": 21,
   "id": "0d35aedf-004b-4897-b282-8fd17992a763",
   "metadata": {},
   "outputs": [
    {
     "name": "stdout",
     "output_type": "stream",
     "text": [
      "[[ 1  2 22  3]\n",
      " [ 1  2 23  3]]\n"
     ]
    }
   ],
   "source": [
    "var1=np.array([[1,2,3],[1,2,3]])\n",
    "v1=np.insert(var1,2,[22,23],axis=1)\n",
    "print(v1)"
   ]
  },
  {
   "cell_type": "code",
   "execution_count": 27,
   "id": "0ef28db0-6f6e-4061-ad8b-ef12572e0b07",
   "metadata": {},
   "outputs": [
    {
     "name": "stdout",
     "output_type": "stream",
     "text": [
      "[1 2 3 4 5 6]\n",
      "[1.  2.  3.  4.  5.  6.  6.5]\n"
     ]
    }
   ],
   "source": [
    "import numpy as np\n",
    "var=np.array([1,2,3,4,5,6])\n",
    "print(var)\n",
    "x=np.append(var,6.5)\n",
    "print(x)\n",
    "\n"
   ]
  },
  {
   "cell_type": "code",
   "execution_count": 34,
   "id": "3e605650-72a7-4aef-b7cf-394d479e6a35",
   "metadata": {},
   "outputs": [
    {
     "name": "stdout",
     "output_type": "stream",
     "text": [
      "[[ 1  2  3 45 44]\n",
      " [ 1  2  3 45 44]]\n"
     ]
    }
   ],
   "source": [
    "var1=np.array([[1,2,3],[1,2,3]])\n",
    "v1=np.append(var1,[[45,44],[45,44]],axis=1)\n",
    "print(v1)"
   ]
  },
  {
   "cell_type": "code",
   "execution_count": 35,
   "id": "cce2e063-6538-4f7b-8ecb-8dcadf796be2",
   "metadata": {},
   "outputs": [
    {
     "name": "stdout",
     "output_type": "stream",
     "text": [
      "[1 2 3 4]\n",
      "[1 2 4]\n"
     ]
    }
   ],
   "source": [
    "import numpy as np\n",
    "var1=np.array([1,2,3,4])\n",
    "print(var1)\n",
    "d=np.delete(var1,2)\n",
    "print(d)"
   ]
  },
  {
   "cell_type": "code",
   "execution_count": 38,
   "id": "15529039-f31c-4d75-a9e7-1b8a7ca9d05c",
   "metadata": {},
   "outputs": [
    {
     "name": "stdout",
     "output_type": "stream",
     "text": [
      "Original array:\n",
      "[[ 1  2  3  4]\n",
      " [ 5  6  7  8]\n",
      " [ 9 10 11 12]]\n",
      "Array after deleting the third row:\n",
      "[[ 1  2  4]\n",
      " [ 5  6  8]\n",
      " [ 9 10 12]]\n"
     ]
    }
   ],
   "source": [
    "import numpy as np\n",
    "\n",
    "# Creating a 2D array\n",
    "var2 = np.array([[1, 2, 3, 4],\n",
    "                 [5, 6, 7, 8],\n",
    "                 [9, 10, 11, 12]])\n",
    "\n",
    "print(\"Original array:\")\n",
    "print(var2)\n",
    "\n",
    "# Deleting the third row (index 2) from the 2D array\n",
    "d = np.delete(var2,2, axis=1)\n",
    "print(\"Array after deleting the third row:\")\n",
    "print(d)"
   ]
  },
  {
   "cell_type": "code",
   "execution_count": 42,
   "id": "24d6a05e-37e6-42e6-8fca-5ccda27e406f",
   "metadata": {},
   "outputs": [
    {
     "name": "stdout",
     "output_type": "stream",
     "text": [
      "[[1 2 3]\n",
      " [1 2 3]]\n",
      "<class 'numpy.matrix'>\n"
     ]
    }
   ],
   "source": [
    "import numpy as np\n",
    "var=np.matrix([[1,2,3],[1,2,3]])\n",
    "print(var)\n",
    "print(type(var))"
   ]
  },
  {
   "cell_type": "code",
   "execution_count": 44,
   "id": "691ed694-5bef-467f-b474-5d2c58e62d17",
   "metadata": {},
   "outputs": [
    {
     "name": "stdout",
     "output_type": "stream",
     "text": [
      "[[1 2 3]\n",
      " [1 2 3]]\n",
      "<class 'numpy.ndarray'>\n"
     ]
    }
   ],
   "source": [
    "var1=np.array([[1,2,3],[1,2,3]])\n",
    "print(var)\n",
    "print(type(var1))"
   ]
  },
  {
   "cell_type": "code",
   "execution_count": 50,
   "id": "02173d8f-edec-47a9-a0df-d3414ffcf4e3",
   "metadata": {},
   "outputs": [
    {
     "name": "stdout",
     "output_type": "stream",
     "text": [
      "\n",
      "[[3 6]\n",
      " [3 6]]\n"
     ]
    }
   ],
   "source": [
    "import numpy as np\n",
    "var=np.matrix([[1,2],[1,2]])\n",
    "var2=np.matrix([[1,2],[1,2]])\n",
    "print()\n",
    "print(var.dot(var2))"
   ]
  },
  {
   "cell_type": "code",
   "execution_count": 52,
   "id": "13ce21ac-a9dd-4661-bfe3-311eaace68d0",
   "metadata": {},
   "outputs": [
    {
     "name": "stdout",
     "output_type": "stream",
     "text": [
      "\n",
      "[[1 4]\n",
      " [1 4]]\n"
     ]
    }
   ],
   "source": [
    "import numpy as np\n",
    "var=np.array([[1,2],[1,2]])\n",
    "var2=np.array([[1,2],[1,2]])\n",
    "print()\n",
    "print(var*var2)"
   ]
  },
  {
   "cell_type": "code",
   "execution_count": 57,
   "id": "ee783923-5887-477c-98ac-3651aaea0413",
   "metadata": {},
   "outputs": [
    {
     "name": "stdout",
     "output_type": "stream",
     "text": [
      "[[1 2 3]\n",
      " [4 5 6]]\n",
      "\n",
      "[[1 4]\n",
      " [2 5]\n",
      " [3 6]]\n",
      "\n",
      "[[1 4]\n",
      " [2 5]\n",
      " [3 6]]\n"
     ]
    }
   ],
   "source": [
    "import numpy as np\n",
    "var=np.matrix([[1,2,3],[4,5,6]])\n",
    "print(var)\n",
    "print()\n",
    "print(np.transpose(var))\n",
    "print()\n",
    "print(var.T)"
   ]
  },
  {
   "cell_type": "code",
   "execution_count": 59,
   "id": "37f400c6-98cc-46fe-9115-e6939c8633ae",
   "metadata": {},
   "outputs": [
    {
     "name": "stdout",
     "output_type": "stream",
     "text": [
      "[[1 2 3]\n",
      " [4 5 6]]\n",
      "\n",
      "[[1 4]\n",
      " [2 5]\n",
      " [3 6]]\n"
     ]
    }
   ],
   "source": [
    "var=np.matrix([[1,2,3],[4,5,6]])\n",
    "print(var)\n",
    "\n",
    "print()\n",
    "print(np.swapaxes(var,0,1))\n"
   ]
  },
  {
   "cell_type": "code",
   "execution_count": 60,
   "id": "a2f85a36-a3b9-48c1-ab8a-288abfe2785f",
   "metadata": {},
   "outputs": [
    {
     "name": "stdout",
     "output_type": "stream",
     "text": [
      "[[1 2]\n",
      " [3 4]]\n",
      "\n",
      "[[1 3]\n",
      " [2 4]]\n"
     ]
    }
   ],
   "source": [
    "var2=np.matrix([[1,2],[3,4]])\n",
    "print(var2)\n",
    "print()\n",
    "print(np.swapaxes(var2,0,1))"
   ]
  },
  {
   "cell_type": "code",
   "execution_count": 61,
   "id": "5012a4fc-3cb7-4b2a-86f2-9cc975061b4b",
   "metadata": {},
   "outputs": [
    {
     "name": "stdout",
     "output_type": "stream",
     "text": [
      "\n",
      "[[1 2]\n",
      " [3 4]]\n",
      "\n",
      "[[-2.   1. ]\n",
      " [ 1.5 -0.5]]\n"
     ]
    }
   ],
   "source": [
    "var2=np.matrix([[1,2],[3,4]])\n",
    "print()\n",
    "print(var2)\n",
    "print()\n",
    "print(np.linalg.inv(var2))"
   ]
  },
  {
   "cell_type": "code",
   "execution_count": 62,
   "id": "51bc7424-702f-4ff5-8544-4a517374f77a",
   "metadata": {},
   "outputs": [
    {
     "name": "stdout",
     "output_type": "stream",
     "text": [
      "[[1 2]\n",
      " [3 4]]\n",
      "\n",
      "[[ 7 10]\n",
      " [15 22]]\n"
     ]
    }
   ],
   "source": [
    "var3=np.matrix([[1,2],[3,4]])\n",
    "print(var3)\n",
    "print()\n",
    "print(np.linalg.matrix_power(var3,2))"
   ]
  },
  {
   "cell_type": "code",
   "execution_count": 63,
   "id": "c643c391-16c6-4c6e-bd24-1cb0e6f8af5f",
   "metadata": {},
   "outputs": [
    {
     "name": "stdout",
     "output_type": "stream",
     "text": [
      "[[1 2]\n",
      " [3 4]]\n",
      "\n",
      "[[1 0]\n",
      " [0 1]]\n"
     ]
    }
   ],
   "source": [
    "var3=np.matrix([[1,2],[3,4]])\n",
    "print(var3)\n",
    "print()\n",
    "print(np.linalg.matrix_power(var3,0))"
   ]
  },
  {
   "cell_type": "code",
   "execution_count": 64,
   "id": "6af05cbe-1d5f-471a-b8a6-04ff613b29dd",
   "metadata": {},
   "outputs": [
    {
     "name": "stdout",
     "output_type": "stream",
     "text": [
      "[[1 2]\n",
      " [3 4]]\n",
      "\n",
      "[[ 5.5  -2.5 ]\n",
      " [-3.75  1.75]]\n"
     ]
    }
   ],
   "source": [
    "var3=np.matrix([[1,2],[3,4]])\n",
    "print(var3)\n",
    "print()\n",
    "print(np.linalg.matrix_power(var3,-2))"
   ]
  },
  {
   "cell_type": "code",
   "execution_count": 65,
   "id": "1a0e3138-cec6-4b0e-89fc-0d4f5772478f",
   "metadata": {},
   "outputs": [
    {
     "name": "stdout",
     "output_type": "stream",
     "text": [
      "[[1 2]\n",
      " [3 4]]\n",
      "\n",
      "-2.0000000000000004\n"
     ]
    }
   ],
   "source": [
    "var4=np.matrix([[1,2],[3,4]])\n",
    "print(var4)\n",
    "print()\n",
    "print(np.linalg.det(var4))\n"
   ]
  },
  {
   "cell_type": "code",
   "execution_count": 74,
   "id": "e3ff4e1f-a4ee-47ee-8ddf-8430b8dfb895",
   "metadata": {},
   "outputs": [
    {
     "name": "stdout",
     "output_type": "stream",
     "text": [
      "[[ 1  2  3]\n",
      " [31  4  5]\n",
      " [ 6 77  8]]\n",
      "\n",
      "6299.999999999996\n"
     ]
    }
   ],
   "source": [
    "var5=np.matrix([[1,2,3],[31,4,5],[6,77,8]])\n",
    "print(var5)\n",
    "print()\n",
    "print(np.linalg.det(var5))\n"
   ]
  },
  {
   "cell_type": "code",
   "execution_count": 75,
   "id": "5c0dfe78-693b-4cd0-baed-ba3e74e6e01b",
   "metadata": {},
   "outputs": [
    {
     "name": "stdout",
     "output_type": "stream",
     "text": [
      "[[ 1  2  3]\n",
      " [31  4  5]\n",
      " [ 1  2  3]]\n",
      "\n",
      "0.0\n"
     ]
    }
   ],
   "source": [
    "var6=np.matrix([[1,2,3],[31,4,5],[1,2,3]])\n",
    "print(var6)\n",
    "print()\n",
    "print(np.linalg.det(var6))"
   ]
  },
  {
   "cell_type": "code",
   "execution_count": null,
   "id": "583e843a-ec20-4162-af3a-be39a236f03f",
   "metadata": {},
   "outputs": [],
   "source": []
  }
 ],
 "metadata": {
  "kernelspec": {
   "display_name": "Python 3 (ipykernel)",
   "language": "python",
   "name": "python3"
  },
  "language_info": {
   "codemirror_mode": {
    "name": "ipython",
    "version": 3
   },
   "file_extension": ".py",
   "mimetype": "text/x-python",
   "name": "python",
   "nbconvert_exporter": "python",
   "pygments_lexer": "ipython3",
   "version": "3.12.3"
  }
 },
 "nbformat": 4,
 "nbformat_minor": 5
}
